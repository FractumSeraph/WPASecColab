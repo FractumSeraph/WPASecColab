{
  "nbformat": 4,
  "nbformat_minor": 0,
  "metadata": {
    "colab": {
      "name": "wpasec.ipynb",
      "provenance": [],
      "collapsed_sections": [],
      "authorship_tag": "ABX9TyPuXDt0S7kGjIluK+pZIBor",
      "include_colab_link": true
    },
    "kernelspec": {
      "name": "python3",
      "display_name": "Python 3"
    },
    "language_info": {
      "name": "python"
    },
    "accelerator": "GPU"
  },
  "cells": [
    {
      "cell_type": "markdown",
      "metadata": {
        "id": "view-in-github",
        "colab_type": "text"
      },
      "source": [
        "<a href=\"https://colab.research.google.com/github/FractumSeraph/WPASecColab/blob/main/wpasec.ipynb\" target=\"_parent\"><img src=\"https://colab.research.google.com/assets/colab-badge.svg\" alt=\"Open In Colab\"/></a>"
      ]
    },
    {
      "cell_type": "code",
      "source": [
        "# Clone, build and install Hashcat\n",
        "!apt install cmake build-essential -y\n",
        "!apt install checkinstall git -y\n",
        "!git clone https://github.com/hashcat/hashcat.git\n",
        "!cd hashcat && git submodule update --init && make && make install"
      ],
      "metadata": {
        "id": "q9JZMBt9tEKp"
      },
      "execution_count": null,
      "outputs": []
    },
    {
      "cell_type": "code",
      "source": [
        "# Run help_crack.py with depreciation checks disabled becuse help crack still using attack mode 2500.\n",
        "!cd /mntDrive/MyDrive/Colab/hashcat/\n",
        "!python /mntDrive/MyDrive/Colab/hashcat/help_crack.py -co=\"--deprecated-check-disable\""
      ],
      "metadata": {
        "id": "jYzGIE74rtKO"
      },
      "execution_count": null,
      "outputs": []
    }
  ]
}